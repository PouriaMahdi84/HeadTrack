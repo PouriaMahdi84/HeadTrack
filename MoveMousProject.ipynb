{
 "cells": [
  {
   "cell_type": "markdown",
   "id": "7e243d61",
   "metadata": {},
   "source": [
    "**Introduction**\n",
    " In today's world of human-computer interaction, accessibility and innovation go hand in hand. For\n",
    " individuals with limited hand mobility, or in environments where touchless control is preferred, alternative ways of interacting with computers are essential.\n",
    "\n",
    "This project demonstrates a hands-free cursor navigation system using Python and OpenCV. By leveraging computer vision techniques, we can detect head movements in real-time through a webcam and translate them into mouse movements—allowing full control of the cursor without using a physical mouse or touchpad.\n",
    "\n",
    "Unlike traditional input devices, this system relies entirely on head gestures, making it not only accessible for users with physical disabilities but also useful for gesture-based interfaces, gaming, remote control applications, and future smart environments."
   ]
  },
  {
   "cell_type": "markdown",
   "id": "9390af2d",
   "metadata": {},
   "source": [
    "**Libraries Used**"
   ]
  },
  {
   "cell_type": "code",
   "execution_count": 1,
   "id": "be498d8e",
   "metadata": {},
   "outputs": [],
   "source": [
    "import cv2\n",
    "import pyautogui as robot"
   ]
  },
  {
   "cell_type": "markdown",
   "id": "6007baf6",
   "metadata": {},
   "source": [
    "**Loading Haar Cascades**"
   ]
  },
  {
   "cell_type": "code",
   "execution_count": 2,
   "id": "434a1f95",
   "metadata": {},
   "outputs": [],
   "source": [
    "eye_model=cv2.CascadeClassifier(\"haarcascade_eye.xml\")\n",
    "face_model=cv2.CascadeClassifier(\"haarcascade_frontalface_default.xml\")"
   ]
  },
  {
   "cell_type": "markdown",
   "id": "5e9fce46",
   "metadata": {},
   "source": [
    "**Project Body**"
   ]
  },
  {
   "cell_type": "code",
   "execution_count": 3,
   "id": "b3de2b29",
   "metadata": {},
   "outputs": [],
   "source": [
    "loop=True\n",
    "cam = cv2.VideoCapture(0)\n",
    "while loop:\n",
    "    _ , img = cam.read()\n",
    "    img=cv2.flip(img,1)\n",
    "    gray = cv2.cvtColor(img,cv2.COLOR_BGR2GRAY)\n",
    "    face = face_model.detectMultiScale(gray)\n",
    "    if len(face)>0:\n",
    "        x=face[0][0]\n",
    "        y=face[0][1]\n",
    "        x2=x+face[0][2]\n",
    "        y2=y+face[0][3]\n",
    "        gray_face=gray[y:y2,x:x2]\n",
    "        eye = eye_model.detectMultiScale(gray_face,minSize=(30,30),scaleFactor=1.1,minNeighbors=5)\n",
    "        imgout = img.copy()\n",
    "    out = cv2.rectangle(imgout, (x,y),(x2,y2),(0,250,0),3)\n",
    "    white=(250,250,250)\n",
    "    red=(0,0,250)\n",
    "    rang=white\n",
    "    mous_x=robot.position().x\n",
    "    mous_y=robot.position().y\n",
    "    if y<80:\n",
    "        rang=red\n",
    "        mous_y-=abs(y-80)\n",
    "        robot.moveTo(mous_x,mous_y,0)\n",
    "    if y2>350:\n",
    "        rang=red\n",
    "        mous_y+=abs(y-350)\n",
    "        robot.moveTo(mous_x,mous_y,0)\n",
    "    if x<200:\n",
    "        rang=red\n",
    "        mous_x-=abs(x-200)\n",
    "        robot.moveTo(mous_x,mous_y,0)\n",
    "    if x2>450:\n",
    "        rang=red\n",
    "        mous_x+=abs(x-450)\n",
    "        robot.moveTo(mous_x,mous_y,0)\n",
    "    out = cv2.rectangle(imgout, (200,80),(450,350),rang,2)\n",
    "    ic=0\n",
    "    for (xe,ye,w,h)in eye:\n",
    "        ic+=1\n",
    "        cv2.rectangle(imgout,(xe+x,ye+y),(xe+w+x,ye+h+y),(250,0,0),2)\n",
    "        if ic==2:\n",
    "            break\n",
    "    cv2.imshow('MoveMous',out)\n",
    "    if cv2.waitKey(1) == ord('q'):\n",
    "        loop = False\n",
    "        cv2.destroyAllWindows()\n",
    "        cam.release()\n",
    "        break"
   ]
  }
 ],
 "metadata": {
  "kernelspec": {
   "display_name": "Python 3",
   "language": "python",
   "name": "python3"
  },
  "language_info": {
   "codemirror_mode": {
    "name": "ipython",
    "version": 3
   },
   "file_extension": ".py",
   "mimetype": "text/x-python",
   "name": "python",
   "nbconvert_exporter": "python",
   "pygments_lexer": "ipython3",
   "version": "3.12.7"
  }
 },
 "nbformat": 4,
 "nbformat_minor": 5
}
